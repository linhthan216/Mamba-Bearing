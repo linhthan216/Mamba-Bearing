{
 "cells": [
  {
   "cell_type": "code",
   "execution_count": 9,
   "metadata": {},
   "outputs": [
    {
     "ename": "RuntimeError",
     "evalue": "The expanded size of the tensor (1) must match the existing size (5) at non-singleton dimension 1.  Target sizes: [1, 1, 64, 64].  Tensor sizes: [5, 64, 64]",
     "output_type": "error",
     "traceback": [
      "\u001b[0;31m---------------------------------------------------------------------------\u001b[0m",
      "\u001b[0;31mRuntimeError\u001b[0m                              Traceback (most recent call last)",
      "Cell \u001b[0;32mIn[9], line 20\u001b[0m\n\u001b[1;32m     18\u001b[0m supoort_images \u001b[38;5;241m=\u001b[39m torch\u001b[38;5;241m.\u001b[39mrand((\u001b[38;5;241m1\u001b[39m, \u001b[38;5;241m5\u001b[39m, \u001b[38;5;241m64\u001b[39m, \u001b[38;5;241m64\u001b[39m))\n\u001b[1;32m     19\u001b[0m support_targets \u001b[38;5;241m=\u001b[39m torch\u001b[38;5;241m.\u001b[39mtensor([\u001b[38;5;241m0\u001b[39m, \u001b[38;5;241m0\u001b[39m, \u001b[38;5;241m1\u001b[39m, \u001b[38;5;241m1\u001b[39m, \u001b[38;5;241m2\u001b[39m])\n\u001b[0;32m---> 20\u001b[0m new_support_images \u001b[38;5;241m=\u001b[39m \u001b[43mconvert_for_5shots\u001b[49m\u001b[43m(\u001b[49m\u001b[43msupoort_images\u001b[49m\u001b[43m,\u001b[49m\u001b[43m \u001b[49m\u001b[43msupport_targets\u001b[49m\u001b[43m)\u001b[49m\n\u001b[1;32m     21\u001b[0m \u001b[38;5;28mprint\u001b[39m(\u001b[38;5;28mlen\u001b[39m(new_support_images))\n\u001b[1;32m     22\u001b[0m \u001b[38;5;28mprint\u001b[39m(new_support_images[\u001b[38;5;241m0\u001b[39m]\u001b[38;5;241m.\u001b[39mshape)\n",
      "Cell \u001b[0;32mIn[9], line 12\u001b[0m, in \u001b[0;36mconvert_for_5shots\u001b[0;34m(support_images, support_targets)\u001b[0m\n\u001b[1;32m     10\u001b[0m     label_images \u001b[38;5;241m=\u001b[39m support_images[:, support_targets[\u001b[38;5;241m0\u001b[39m] \u001b[38;5;241m==\u001b[39m label]\n\u001b[1;32m     11\u001b[0m     padded_label_images \u001b[38;5;241m=\u001b[39m torch\u001b[38;5;241m.\u001b[39mzeros((\u001b[38;5;241m5\u001b[39m, \u001b[38;5;241m1\u001b[39m, \u001b[38;5;241m64\u001b[39m, \u001b[38;5;241m64\u001b[39m), dtype\u001b[38;5;241m=\u001b[39mlabel_images\u001b[38;5;241m.\u001b[39mdtype)\n\u001b[0;32m---> 12\u001b[0m     \u001b[43mpadded_label_images\u001b[49m\u001b[43m[\u001b[49m\u001b[43m:\u001b[49m\u001b[43mlabel_images\u001b[49m\u001b[38;5;241;43m.\u001b[39;49m\u001b[43mshape\u001b[49m\u001b[43m[\u001b[49m\u001b[38;5;241;43m1\u001b[39;49m\u001b[43m]\u001b[49m\u001b[43m]\u001b[49m \u001b[38;5;241m=\u001b[39m label_images\u001b[38;5;241m.\u001b[39msqueeze(\u001b[38;5;241m0\u001b[39m)\n\u001b[1;32m     13\u001b[0m     new_support_images\u001b[38;5;241m.\u001b[39mappend(padded_label_images)\n\u001b[1;32m     15\u001b[0m \u001b[38;5;28;01mreturn\u001b[39;00m new_support_images\n",
      "\u001b[0;31mRuntimeError\u001b[0m: The expanded size of the tensor (1) must match the existing size (5) at non-singleton dimension 1.  Target sizes: [1, 1, 64, 64].  Tensor sizes: [5, 64, 64]"
     ]
    }
   ],
   "source": [
    "import torch \n",
    "\n",
    "def convert_for_5shots(support_images, support_targets):\n",
    "\n",
    "    support_targets = support_targets.cpu()\n",
    "    labels = torch.unique(support_targets)\n",
    "    new_support_images = []\n",
    "\n",
    "    for label in labels:\n",
    "        label_images = support_images[:, support_targets[0] == label]\n",
    "        padded_label_images = torch.zeros((5, 1, 64, 64), dtype=label_images.dtype)\n",
    "        padded_label_images[:label_images.shape[1]] = label_images.squeeze(0)\n",
    "        new_support_images.append(padded_label_images)\n",
    "\n",
    "    return new_support_images\n",
    "\n",
    "\n",
    "\n",
    "\n",
    "\n"
   ]
  }
 ],
 "metadata": {
  "kernelspec": {
   "display_name": "Python 3",
   "language": "python",
   "name": "python3"
  },
  "language_info": {
   "codemirror_mode": {
    "name": "ipython",
    "version": 3
   },
   "file_extension": ".py",
   "mimetype": "text/x-python",
   "name": "python",
   "nbconvert_exporter": "python",
   "pygments_lexer": "ipython3",
   "version": "3.12.1"
  }
 },
 "nbformat": 4,
 "nbformat_minor": 2
}
